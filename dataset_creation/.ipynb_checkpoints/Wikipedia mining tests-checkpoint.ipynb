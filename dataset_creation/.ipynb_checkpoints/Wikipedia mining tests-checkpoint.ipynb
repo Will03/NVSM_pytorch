{
 "cells": [
  {
   "cell_type": "code",
   "execution_count": 1,
   "metadata": {},
   "outputs": [],
   "source": [
    "import requests\n",
    "from xml.etree import ElementTree\n",
    "import time\n",
    "import re\n",
    "from collections import defaultdict\n",
    "from pathlib import Path\n",
    "import os"
   ]
  },
  {
   "cell_type": "code",
   "execution_count": 2,
   "metadata": {},
   "outputs": [],
   "source": [
    "def extract_see_also(page_text):\n",
    "    try:\n",
    "        lines         = page_text.splitlines()\n",
    "        see_index     = lines.index('==See also==')\n",
    "        ref_index     = lines.index('==References==')\n",
    "        raw_titles    = lines[see_index+2:ref_index-1]\n",
    "        regex         = '.*\\[\\[(.*)\\]\\]'\n",
    "        parsed_titles = []\n",
    "        for title in raw_titles:\n",
    "            re_result = re.search(regex, title)\n",
    "            if re_result:\n",
    "                parsed_titles.append(re_result.group(1))\n",
    "            \n",
    "        return parsed_titles\n",
    "    except:\n",
    "        return []"
   ]
  },
  {
   "cell_type": "code",
   "execution_count": 3,
   "metadata": {},
   "outputs": [],
   "source": [
    "def generate_page_name_from_title(title):\n",
    "    return '_'.join(title.split())"
   ]
  },
  {
   "cell_type": "code",
   "execution_count": 4,
   "metadata": {},
   "outputs": [],
   "source": [
    "def get_wikipedia_page(page_title, delay = 5):\n",
    "    api_url           = f'https://en.wikipedia.org/wiki/Special:Export/{page_title}'\n",
    "    req               = requests.get(api_url)\n",
    "    time.sleep(5)\n",
    "    page_text         = req.text\n",
    "    xml_root          = ElementTree.fromstring(page_text)\n",
    "    page_content      = xml_root\\\n",
    "            .find('{http://www.mediawiki.org/xml/export-0.10/}page')\\\n",
    "            .find('{http://www.mediawiki.org/xml/export-0.10/}revision')\\\n",
    "            .find('{http://www.mediawiki.org/xml/export-0.10/}text')\n",
    "    page_content_text = page_content.text\n",
    "    see_also_titles   = extract_see_also(page_content_text)\n",
    "    see_also_links    = [generate_page_name_from_title(title) for title in see_also_titles] \n",
    "    page_dict         = {\n",
    "        'title'   : page_title,\n",
    "        'content' : page_content_text,\n",
    "        'see_also': see_also_links\n",
    "    }\n",
    "    \n",
    "    return page_dict"
   ]
  },
  {
   "cell_type": "code",
   "execution_count": 5,
   "metadata": {},
   "outputs": [],
   "source": [
    "def mine_graph(entry_points, n = 10):\n",
    "    queues     = [[point] for point in entry_points]\n",
    "    downloaded = set()\n",
    "    i          = 0\n",
    "    documents  = defaultdict(list)\n",
    "    \n",
    "    while len(downloaded) < n:\n",
    "        print(100 * len(downloaded) / n, '%')\n",
    "        queue       = queues[i % len(queues)]\n",
    "        i          += 1\n",
    "        if not queue:\n",
    "            continue\n",
    "        page_title, category  = queue.pop(0)\n",
    "        if page_title in downloaded:\n",
    "            print('Already downloaded')\n",
    "            continue\n",
    "        downloaded.add(page_title)\n",
    "        page_dict = get_wikipedia_page(page_title)\n",
    "        documents[category].append(page_dict)\n",
    "        new_queue_elems = [(title, category) for title in page_dict['see_also']]\n",
    "        queue.extend(new_queue_elems)\n",
    "        \n",
    "    return documents"
   ]
  },
  {
   "cell_type": "code",
   "execution_count": 6,
   "metadata": {},
   "outputs": [],
   "source": [
    "def save_documents(documents, data_folder = Path('../data/')):\n",
    "    for category in documents:\n",
    "        os.makedirs(data_folder / category, exist_ok = True)\n",
    "        for page in documents[category]:\n",
    "            title   = page['title']\n",
    "            content = page['content']\n",
    "            with open(data_folder / category / title, 'w') as page_file:\n",
    "                page_file.write(content)"
   ]
  },
  {
   "cell_type": "code",
   "execution_count": 7,
   "metadata": {},
   "outputs": [],
   "source": [
    "entry_points = [\n",
    "    ('French_Revolution'                       , 'history'),\n",
    "    ('Aleppo_offensive_(October–December_2013)', 'history'),\n",
    "    ('World_War_II'                            , 'history'),\n",
    "    ('Algebraic_graph_theory'                  , 'math'),\n",
    "    ('Machine_learning'                        , 'math'),\n",
    "    ('Game_theory'                             , 'math'),\n",
    "    ('Astronomy'                               , 'space'),\n",
    "    ('Universe'                                , 'space'),\n",
    "    ('Pluto'                                   , 'space'),\n",
    "    ('Linguistics'                             , 'language'),\n",
    "    ('Translation'                             , 'language'),\n",
    "    ('Toki_Pona'                               , 'language'),\n",
    "    ('Napster'                                 , 'tech'),\n",
    "    ('Freenet'                                 , 'tech'),\n",
    "    ('Neuralink'                               , 'tech'),\n",
    "    ('For_the_World'                           , 'music'),\n",
    "    ('Pixies'                                  , 'music'),\n",
    "    ('Jazz'                                    , 'music'),\n",
    "]"
   ]
  },
  {
   "cell_type": "code",
   "execution_count": 8,
   "metadata": {},
   "outputs": [
    {
     "name": "stdout",
     "output_type": "stream",
     "text": [
      "0.0 %\n",
      "Page title: French_Revolution\n",
      "5.0 %\n",
      "Page title: Aleppo_offensive_(October–December_2013)\n",
      "10.0 %\n",
      "Page title: World_War_II\n",
      "15.0 %\n",
      "Page title: Algebraic_graph_theory\n",
      "20.0 %\n",
      "Page title: Machine_learning\n",
      "25.0 %\n",
      "Page title: Game_theory\n",
      "30.0 %\n",
      "Page title: Astronomy\n",
      "35.0 %\n",
      "Page title: Universe\n",
      "40.0 %\n",
      "Page title: Pluto\n",
      "45.0 %\n",
      "Page title: Linguistics\n",
      "50.0 %\n",
      "Page title: Translation\n",
      "55.0 %\n",
      "Page title: Toki_Pona\n",
      "60.0 %\n",
      "Page title: Napster\n",
      "65.0 %\n",
      "Page title: Freenet\n",
      "70.0 %\n",
      "Page title: Neuralink\n",
      "75.0 %\n",
      "Page title: For_the_World\n",
      "80.0 %\n",
      "Page title: Pixies\n",
      "85.0 %\n",
      "Page title: Jazz\n",
      "90.0 %\n",
      "Page title: Timeline_of_the_French_Revolution\n",
      "95.0 %\n",
      "95.0 %\n",
      "95.0 %\n",
      "Page title: Spectral_graph_theory\n"
     ]
    }
   ],
   "source": [
    "documents = mine_graph(entry_points, 20)"
   ]
  },
  {
   "cell_type": "code",
   "execution_count": 9,
   "metadata": {},
   "outputs": [],
   "source": [
    "save_documents(documents)"
   ]
  }
 ],
 "metadata": {
  "kernelspec": {
   "display_name": "Python 3",
   "language": "python",
   "name": "python3"
  },
  "language_info": {
   "codemirror_mode": {
    "name": "ipython",
    "version": 3
   },
   "file_extension": ".py",
   "mimetype": "text/x-python",
   "name": "python",
   "nbconvert_exporter": "python",
   "pygments_lexer": "ipython3",
   "version": "3.7.2"
  }
 },
 "nbformat": 4,
 "nbformat_minor": 2
}
