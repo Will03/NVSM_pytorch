{
 "cells": [
  {
   "cell_type": "code",
   "execution_count": 1,
   "metadata": {},
   "outputs": [],
   "source": [
    "import requests\n",
    "from xml.etree import ElementTree\n",
    "import time\n",
    "import re"
   ]
  },
  {
   "cell_type": "code",
   "execution_count": 2,
   "metadata": {},
   "outputs": [],
   "source": [
    "def extract_see_also(page_text):\n",
    "    try:\n",
    "        lines      = page_text.splitlines()\n",
    "        see_index  = lines.index('==See also==')\n",
    "        ref_index  = lines.index('==References==')\n",
    "        raw_titles = lines[see_index+2:ref_index-1]\n",
    "        regex      = '.*\\[\\[(.*)\\]\\]'\n",
    "        \n",
    "        return [re.search(regex, title).group(1) for title in raw_titles]\n",
    "    except:\n",
    "        return []"
   ]
  },
  {
   "cell_type": "code",
   "execution_count": 3,
   "metadata": {},
   "outputs": [],
   "source": [
    "def generate_page_name_from_title(title):\n",
    "    return '_'.join(title.split())"
   ]
  },
  {
   "cell_type": "code",
   "execution_count": 4,
   "metadata": {},
   "outputs": [],
   "source": [
    "def get_wikipedia_page(page_title, delay = 5):\n",
    "    api_url           = f'https://en.wikipedia.org/wiki/Special:Export/{page_title}'\n",
    "    req               = requests.get(api_url)\n",
    "    time.sleep(5)\n",
    "    page_text         = req.text\n",
    "    xml_root          = ElementTree.fromstring(page_text)\n",
    "    page_content      = xml_root\\\n",
    "            .find('{http://www.mediawiki.org/xml/export-0.10/}page')\\\n",
    "            .find('{http://www.mediawiki.org/xml/export-0.10/}revision')\\\n",
    "            .find('{http://www.mediawiki.org/xml/export-0.10/}text')\n",
    "    page_content_text = page_content.text\n",
    "    see_also_titles   = extract_see_also(page_content_text)\n",
    "    see_also_links    = [generate_page_name_from_title(title) for title in see_also_titles] \n",
    "    page_dict         = {\n",
    "        'title'   : page_title,\n",
    "        'content' : page_content_text,\n",
    "        'see_also': see_also_links\n",
    "    }\n",
    "    \n",
    "    return page_dict"
   ]
  },
  {
   "cell_type": "code",
   "execution_count": 5,
   "metadata": {},
   "outputs": [],
   "source": [
    "def mine_graph(entry_point_title, n = 10):\n",
    "    queue      = [entry_point_title]\n",
    "    downloaded = set()\n",
    "    pages      = []\n",
    "    \n",
    "    while len(downloaded) < n and queue:\n",
    "        page_title = queue.pop(0)\n",
    "        print(f'Page title: {page_title}')\n",
    "        if page_title in downloaded:\n",
    "            print('Already downloaded')\n",
    "            continue\n",
    "        downloaded.add(page_title)\n",
    "        page_dict = get_wikipedia_page(page_title)\n",
    "        pages.append(page_dict)\n",
    "        queue.extend(page_dict['see_also'])\n",
    "        \n",
    "    return pages"
   ]
  },
  {
   "cell_type": "code",
   "execution_count": 6,
   "metadata": {},
   "outputs": [
    {
     "name": "stdout",
     "output_type": "stream",
     "text": [
      "Page title: Algebraic_graph_theory\n",
      "Page title: Spectral_graph_theory\n",
      "Page title: Algebraic_combinatorics\n",
      "Page title: Algebraic_connectivity\n",
      "Page title: Dulmage–Mendelsohn_decomposition\n",
      "Page title: Graph_property\n",
      "Page title: Adjacency_matrix\n",
      "Page title: Algebraic_connectivity\n",
      "Already downloaded\n",
      "Page title: Algebraic_graph_theory\n",
      "Already downloaded\n",
      "Page title: Spectral_clustering\n",
      "Page title: Spectral_shape_analysis\n",
      "Page title: Estrada_index\n",
      "Page title: Lovász_theta\n",
      "Page title: Expander_graph\n",
      "Page title: Self-similarity_matrix\n"
     ]
    }
   ],
   "source": [
    "res = mine_graph('Algebraic_graph_theory', 20)"
   ]
  },
  {
   "cell_type": "code",
   "execution_count": 7,
   "metadata": {},
   "outputs": [
    {
     "data": {
      "text/plain": [
       "['Algebraic_graph_theory',\n",
       " 'Spectral_graph_theory',\n",
       " 'Algebraic_combinatorics',\n",
       " 'Algebraic_connectivity',\n",
       " 'Dulmage–Mendelsohn_decomposition',\n",
       " 'Graph_property',\n",
       " 'Adjacency_matrix',\n",
       " 'Spectral_clustering',\n",
       " 'Spectral_shape_analysis',\n",
       " 'Estrada_index',\n",
       " 'Lovász_theta',\n",
       " 'Expander_graph',\n",
       " 'Self-similarity_matrix']"
      ]
     },
     "execution_count": 7,
     "metadata": {},
     "output_type": "execute_result"
    }
   ],
   "source": [
    "[page['title'] for page in res]"
   ]
  },
  {
   "cell_type": "code",
   "execution_count": 8,
   "metadata": {},
   "outputs": [
    {
     "name": "stdout",
     "output_type": "stream",
     "text": [
      "[[Image:Petersen1 tiny.svg|thumb|200px|A highly symmetrical graph, the [[Petersen graph]], which is [[vertex-transitive graph|vertex-transitive]], [[symmetric graph|symmetric]], [[distance-transitive graph|distance-transitive]], and [[distance-regular graph|distance-regular]].  It has [[diameter]] 2. Its [[Graph automorphism|automorphism group]] has 120 elements, and is in fact the [[symmetric group]] <math>S_5</math>.]]\n",
      "\n",
      "'''Algebraic [[graph theory]]''' is a branch of [[mathematics]] in which [[algebra]]ic methods are applied to problems about [[Graph (discrete mathematics)|graphs]]. This is in contrast to [[geometric graph theory|geometric]], [[combinatorics#Graph theory|combinatoric]], or [[algorithmic graph theory|algorithmic]] approaches.  There are three main branches of algebraic graph theory, involving the use of [[linear algebra]], the use of [[group theory]], and the study of [[graph property|graph invariants]].\n",
      "\n",
      "==Branches of algebraic graph theory==\n",
      "=== Using linear algebra ===\n",
      "The first branch of algebraic graph theory involves the study of graphs in connection with [[linear algebra]]. Especially, it studies the [[Eigendecomposition of a matrix|spectrum]] of the [[adjacency matrix]], or the [[Laplacian matrix]] of a graph (this part of algebraic graph theory is also called [[spectral graph theory]]).  For the [[Petersen graph]], for example, the spectrum of the adjacency matrix is (−2,&nbsp;−2,&nbsp;−2,&nbsp;−2,&nbsp;1,&nbsp;1,&nbsp;1,&nbsp;1,&nbsp;1,&nbsp;3). Several theorems relate properties of the spectrum to other [[graph property|graph properties]].  As a simple example, a [[connectivity (graph theory)|connected]] graph with [[Distance (graph theory)|diameter]] ''D'' will have at least ''D''+1 distinct values in its spectrum.<ref name=\"biggs\">{{Citation | author=Biggs, Norman | title=Algebraic Graph Theory | edition=2nd | location=Cambridge | publisher=Cambridge University Press | year=1993 | isbn=0-521-45897-8 | postscript=<!--none-->}}</ref> [[Algebraic connectivity|Aspects]] of graph spectra have been used in analysing the [[synchronizability]] of [[Network theory|networks]].\n",
      "\n",
      "===Using group theory===\n",
      "{{Graph families defined by their automorphisms}}\n",
      "The second branch of algebraic graph theory involves the study of graphs in connection to [[group theory]], particularly [[Graph automorphism|automorphism groups]] and [[geometric group theory]]. The focus is placed on various families of graphs based on [[symmetry]] (such as [[symmetric graph]]s, [[vertex-transitive graph]]s, [[edge-transitive graph]]s, [[distance-transitive graph]]s, [[distance-regular graph]]s, and [[strongly regular graph]]s), and on the inclusion relationships between these families. Certain of such categories of graphs are sparse enough that [[Foster census|lists]] of graphs can be drawn up. By [[Frucht's theorem]], all [[group (mathematics)|groups]] can be represented as the automorphism group of a connected graph (indeed, of a [[cubic graph]]).<ref>[[R. Frucht]]. Graphs of Degree 3 with given abstract group, Can. J. Math. 3 1949.</ref> Another connection with group theory is that, given any group, symmetrical graphs known as [[Cayley graph]]s can be generated, and these have properties related to the structure of the group.<ref name=\"biggs\" />\n",
      "\n",
      "[[Image:TruncatedTetrahedron.gif|thumb|left|220px|A [[Cayley graph]] for the [[alternating group]] ''A''<sub>4</sub>, forming a [[truncated tetrahedron]] in three dimensions.  All Cayley graphs are [[vertex-transitive graph|vertex-transitive]], but some vertex-transitive graphs (like the [[Petersen graph]]) are not Cayley graphs.]]\n",
      "\n",
      "[[Image:Petersen graph 3-coloring.svg|thumb|right|200px|A proper vertex coloring of the [[Petersen graph]] with 3 colors, the minimum number possible.  According to the [[chromatic polynomial]], there are 120 such colorings with 3 colors.]]\n",
      "\n",
      "This second branch of algebraic graph theory is related to the first, since the symmetry properties of a graph are reflected in its spectrum. In particular, the spectrum of a highly symmetrical graph, such as the Petersen graph, has few distinct values<ref name=\"biggs\" /> (the Petersen graph has 3, which is the minimum possible, given its diameter). For Cayley graphs, the spectrum can be related directly to the structure of the group, in particular to its [[character theory|irreducible characters]].<ref name=\"biggs\" /><ref name=\"babai\">*{{Citation | first = L | last = Babai | editor-last = Graham | editor-first = R | editor2-last = Grötschel | editor2-first = M | editor2-link = Martin Grötschel | editor3-last = Lovász | editor3-first = L | title = Handbook of Combinatorics | contribution = Automorphism groups, isomorphism, reconstruction | contribution-url = http://www.cs.uchicago.edu/files/tr_authentic/TR-94-10.ps | year = 1996 | publisher = Elsevier | postscript = <!--none-->}}</ref>\n",
      "\n",
      "===Studying graph invariants===\n",
      "Finally, the third branch of algebraic graph theory concerns algebraic properties of [[graph property|invariants]] of graphs, and especially the [[chromatic polynomial]], the [[Tutte polynomial]] and [[knot invariant]]s. The chromatic polynomial of a graph, for example, counts the number of its proper [[vertex coloring]]s.  For the Petersen graph, this polynomial is <math>t(t-1)(t-2)(t^7-12t^6+67t^5-230t^4+529t^3-814t^2+775t-352)</math>.<ref name=\"biggs\" /> In particular, this means that the Petersen graph cannot be properly colored with one or two colors, but can be colored in 120 different ways with 3 colors.  Much work in this area of algebraic graph theory was motivated by attempts to prove the [[four color theorem]]. However, there are still many [[Graph coloring#Open problems|open problems]], such as characterizing graphs which have the same chromatic polynomial, and determining which polynomials are chromatic.\n",
      "\n",
      "==See also==\n",
      "\n",
      "*[[Spectral graph theory]]\n",
      "*[[Algebraic combinatorics]]\n",
      "*[[Algebraic connectivity]]\n",
      "*[[Dulmage–Mendelsohn decomposition]]\n",
      "*[[Graph property]]\n",
      "*[[Adjacency matrix]]\n",
      "\n",
      "==References==\n",
      "{{reflist}}\n",
      "{{refbegin}}\n",
      "*{{citation|first1=Chris|last1=Godsil|authorlink1=Chris Godsil|first2=Gordon|last2=Royle|authorlink2=Gordon Royle|title=Algebraic Graph Theory|series=Graduate Texts in Mathematics|volume=207|publisher=Springer-Verlag|location=New York|year=2001|postscript=<!--none-->}}.\n",
      "{{refend}}\n",
      "\n",
      "==External links==\n",
      "*{{Commonscat-inline}}\n",
      "\n",
      "[[Category:Algebraic graph theory| ]]\n"
     ]
    }
   ],
   "source": [
    "print(res[0]['content'])"
   ]
  }
 ],
 "metadata": {
  "kernelspec": {
   "display_name": "Python 3",
   "language": "python",
   "name": "python3"
  },
  "language_info": {
   "codemirror_mode": {
    "name": "ipython",
    "version": 3
   },
   "file_extension": ".py",
   "mimetype": "text/x-python",
   "name": "python",
   "nbconvert_exporter": "python",
   "pygments_lexer": "ipython3",
   "version": "3.7.2"
  }
 },
 "nbformat": 4,
 "nbformat_minor": 2
}
