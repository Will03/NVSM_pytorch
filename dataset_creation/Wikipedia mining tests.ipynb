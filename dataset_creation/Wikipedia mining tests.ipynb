{
 "cells": [
  {
   "cell_type": "code",
   "execution_count": 1,
   "metadata": {},
   "outputs": [],
   "source": [
    "import requests\n",
    "from xml.etree import ElementTree\n",
    "import time\n",
    "import re\n",
    "from collections import defaultdict\n",
    "from pathlib import Path\n",
    "import os"
   ]
  },
  {
   "cell_type": "code",
   "execution_count": 2,
   "metadata": {},
   "outputs": [],
   "source": [
    "def extract_see_also(page_text):\n",
    "    try:\n",
    "        lines         = page_text.splitlines()\n",
    "        see_index     = lines.index('==See also==')\n",
    "        ref_index     = lines.index('==References==')\n",
    "        raw_titles    = lines[see_index+2:ref_index-1]\n",
    "        regex         = '.*\\[\\[(.*)\\]\\]'\n",
    "        parsed_titles = []\n",
    "        for title in raw_titles:\n",
    "            re_result = re.search(regex, title)\n",
    "            if re_result:\n",
    "                parsed_titles.append(re_result.group(1))\n",
    "            \n",
    "        return parsed_titles\n",
    "    except:\n",
    "        return []"
   ]
  },
  {
   "cell_type": "code",
   "execution_count": 3,
   "metadata": {},
   "outputs": [],
   "source": [
    "def generate_page_name_from_title(title):\n",
    "    return '_'.join(title.split())"
   ]
  },
  {
   "cell_type": "code",
   "execution_count": 4,
   "metadata": {},
   "outputs": [],
   "source": [
    "def get_wikipedia_page(page_title, delay = 3):\n",
    "    api_url           = f'https://en.wikipedia.org/wiki/Special:Export/{page_title}'\n",
    "    req               = requests.get(api_url)\n",
    "    time.sleep(5)\n",
    "    page_text         = req.text\n",
    "    if page_text == '':\n",
    "        print(page_title, api_url)\n",
    "    xml_root          = ElementTree.fromstring(page_text)s8 \n",
    "    page_content      = xml_root\\\n",
    "            .find('{http://www.mediawiki.org/xml/export-0.10/}page')\\\n",
    "            .find('{http://www.mediawiki.org/xml/export-0.10/}revision')\\\n",
    "            .find('{http://www.mediawiki.org/xml/export-0.10/}text')\n",
    "    page_content_text = page_content.text\n",
    "    see_also_titles   = extract_see_also(page_content_text)\n",
    "    see_also_links    = [generate_page_name_from_title(title) for title in see_also_titles] \n",
    "    page_dict         = {\n",
    "        'title'   : page_title,\n",
    "        'content' : page_content_text,\n",
    "        'see_also': see_also_links\n",
    "    }\n",
    "    \n",
    "    return page_dict"
   ]
  },
  {
   "cell_type": "code",
   "execution_count": 5,
   "metadata": {},
   "outputs": [],
   "source": [
    "def mine_graph(entry_points, n = 10):\n",
    "    queues     = [[point] for point in entry_points]\n",
    "    downloaded = set()\n",
    "    i          = 0\n",
    "    documents  = defaultdict(list)\n",
    "    \n",
    "    while len(downloaded) < n:\n",
    "        print(100 * len(downloaded) / n, '%')\n",
    "        queue       = queues[i % len(queues)]\n",
    "        i          += 1\n",
    "        if not queue:\n",
    "            continue\n",
    "        page_title, category  = queue.pop(0)\n",
    "        if page_title in downloaded:\n",
    "            print('Already downloaded')\n",
    "            continue\n",
    "        downloaded.add(page_title)\n",
    "        page_dict = get_wikipedia_page(page_title)\n",
    "        documents[category].append(page_dict)\n",
    "        new_queue_elems = [(title, category) for title in page_dict['see_also']]\n",
    "        queue.extend(new_queue_elems)\n",
    "        if not any(queue for queue in queues):\n",
    "            print('all queues are empty, exiting.')\n",
    "            break\n",
    "\n",
    "    return documents"
   ]
  },
  {
   "cell_type": "code",
   "execution_count": 6,
   "metadata": {},
   "outputs": [],
   "source": [
    "def save_documents(documents, data_folder = Path('../data/')):\n",
    "    for category in documents:\n",
    "        os.makedirs(data_folder / category, exist_ok = True)\n",
    "        for page in documents[category]:\n",
    "            title   = page['title']\n",
    "            content = page['content']\n",
    "            with open(data_folder / category / title, 'w') as page_file:\n",
    "                page_file.write(content)"
   ]
  },
  {
   "cell_type": "code",
   "execution_count": 7,
   "metadata": {},
   "outputs": [],
   "source": [
    "entry_points = [\n",
    "    ('French_Revolution'                       , 'history'),\n",
    "    ('Aleppo_offensive_(October–December_2013)', 'history'),\n",
    "    ('World_War_II'                            , 'history'),\n",
    "    ('Algebraic_graph_theory'                  , 'math'),\n",
    "    ('Machine_learning'                        , 'math'),\n",
    "    ('Game_theory'                             , 'math'),\n",
    "    ('Astronomy'                               , 'space'),\n",
    "    ('Universe'                                , 'space'),\n",
    "    ('Pluto'                                   , 'space'),\n",
    "    ('Linguistics'                             , 'language'),\n",
    "    ('Translation'                             , 'language'),\n",
    "    ('Toki_Pona'                               , 'language'),\n",
    "    ('Napster'                                 , 'tech'),\n",
    "    ('Freenet'                                 , 'tech'),\n",
    "    ('Neuralink'                               , 'tech'),\n",
    "    ('For_the_World'                           , 'music'),\n",
    "    ('Pixies'                                  , 'music'),\n",
    "    ('Jazz'                                    , 'music'),\n",
    "]"
   ]
  },
  {
   "cell_type": "code",
   "execution_count": 8,
   "metadata": {},
   "outputs": [
    {
     "name": "stdout",
     "output_type": "stream",
     "text": [
      "0.0 %\n",
      "0.05 %\n",
      "0.1 %\n",
      "0.15 %\n",
      "0.2 %\n",
      "0.25 %\n",
      "0.3 %\n",
      "0.35 %\n",
      "0.4 %\n",
      "0.45 %\n",
      "0.5 %\n",
      "0.55 %\n",
      "0.6 %\n",
      "0.65 %\n",
      "0.7 %\n",
      "0.75 %\n",
      "0.8 %\n",
      "0.85 %\n",
      "0.9 %\n",
      "0.95 %\n",
      "0.95 %\n",
      "0.95 %\n",
      "1.0 %\n",
      "1.0 %\n",
      "1.0 %\n",
      "1.05 %\n",
      "1.05 %\n",
      "1.05 %\n",
      "1.1 %\n",
      "1.15 %\n",
      "1.2 %\n",
      "1.2 %\n",
      "1.25 %\n",
      "1.25 %\n"
     ]
    },
    {
     "ename": "AttributeError",
     "evalue": "'NoneType' object has no attribute 'find'",
     "output_type": "error",
     "traceback": [
      "\u001b[0;31m---------------------------------------------------------------------------\u001b[0m",
      "\u001b[0;31mAttributeError\u001b[0m                            Traceback (most recent call last)",
      "\u001b[0;32m<ipython-input-8-8751adba4e77>\u001b[0m in \u001b[0;36m<module>\u001b[0;34m\u001b[0m\n\u001b[0;32m----> 1\u001b[0;31m \u001b[0mdocuments\u001b[0m \u001b[0;34m=\u001b[0m \u001b[0mmine_graph\u001b[0m\u001b[0;34m(\u001b[0m\u001b[0mentry_points\u001b[0m\u001b[0;34m,\u001b[0m \u001b[0;36m2000\u001b[0m\u001b[0;34m)\u001b[0m\u001b[0;34m\u001b[0m\u001b[0;34m\u001b[0m\u001b[0m\n\u001b[0m",
      "\u001b[0;32m<ipython-input-5-db114801d18d>\u001b[0m in \u001b[0;36mmine_graph\u001b[0;34m(entry_points, n)\u001b[0m\n\u001b[1;32m     16\u001b[0m             \u001b[0;32mcontinue\u001b[0m\u001b[0;34m\u001b[0m\u001b[0;34m\u001b[0m\u001b[0m\n\u001b[1;32m     17\u001b[0m         \u001b[0mdownloaded\u001b[0m\u001b[0;34m.\u001b[0m\u001b[0madd\u001b[0m\u001b[0;34m(\u001b[0m\u001b[0mpage_title\u001b[0m\u001b[0;34m)\u001b[0m\u001b[0;34m\u001b[0m\u001b[0;34m\u001b[0m\u001b[0m\n\u001b[0;32m---> 18\u001b[0;31m         \u001b[0mpage_dict\u001b[0m \u001b[0;34m=\u001b[0m \u001b[0mget_wikipedia_page\u001b[0m\u001b[0;34m(\u001b[0m\u001b[0mpage_title\u001b[0m\u001b[0;34m)\u001b[0m\u001b[0;34m\u001b[0m\u001b[0;34m\u001b[0m\u001b[0m\n\u001b[0m\u001b[1;32m     19\u001b[0m         \u001b[0mdocuments\u001b[0m\u001b[0;34m[\u001b[0m\u001b[0mcategory\u001b[0m\u001b[0;34m]\u001b[0m\u001b[0;34m.\u001b[0m\u001b[0mappend\u001b[0m\u001b[0;34m(\u001b[0m\u001b[0mpage_dict\u001b[0m\u001b[0;34m)\u001b[0m\u001b[0;34m\u001b[0m\u001b[0;34m\u001b[0m\u001b[0m\n\u001b[1;32m     20\u001b[0m         \u001b[0mnew_queue_elems\u001b[0m \u001b[0;34m=\u001b[0m \u001b[0;34m[\u001b[0m\u001b[0;34m(\u001b[0m\u001b[0mtitle\u001b[0m\u001b[0;34m,\u001b[0m \u001b[0mcategory\u001b[0m\u001b[0;34m)\u001b[0m \u001b[0;32mfor\u001b[0m \u001b[0mtitle\u001b[0m \u001b[0;32min\u001b[0m \u001b[0mpage_dict\u001b[0m\u001b[0;34m[\u001b[0m\u001b[0;34m'see_also'\u001b[0m\u001b[0;34m]\u001b[0m\u001b[0;34m]\u001b[0m\u001b[0;34m\u001b[0m\u001b[0;34m\u001b[0m\u001b[0m\n",
      "\u001b[0;32m<ipython-input-4-79f4709ccb4e>\u001b[0m in \u001b[0;36mget_wikipedia_page\u001b[0;34m(page_title, delay)\u001b[0m\n\u001b[1;32m      8\u001b[0m     \u001b[0mxml_root\u001b[0m          \u001b[0;34m=\u001b[0m \u001b[0mElementTree\u001b[0m\u001b[0;34m.\u001b[0m\u001b[0mfromstring\u001b[0m\u001b[0;34m(\u001b[0m\u001b[0mpage_text\u001b[0m\u001b[0;34m)\u001b[0m\u001b[0;34m\u001b[0m\u001b[0;34m\u001b[0m\u001b[0m\n\u001b[1;32m      9\u001b[0m     \u001b[0mpage_content\u001b[0m      \u001b[0;34m=\u001b[0m \u001b[0mxml_root\u001b[0m\u001b[0;31m\\\u001b[0m\u001b[0;34m\u001b[0m\u001b[0;34m\u001b[0m\u001b[0m\n\u001b[0;32m---> 10\u001b[0;31m             \u001b[0;34m.\u001b[0m\u001b[0mfind\u001b[0m\u001b[0;34m(\u001b[0m\u001b[0;34m'{http://www.mediawiki.org/xml/export-0.10/}page'\u001b[0m\u001b[0;34m)\u001b[0m\u001b[0;31m\\\u001b[0m\u001b[0;34m\u001b[0m\u001b[0;34m\u001b[0m\u001b[0m\n\u001b[0m\u001b[1;32m     11\u001b[0m             \u001b[0;34m.\u001b[0m\u001b[0mfind\u001b[0m\u001b[0;34m(\u001b[0m\u001b[0;34m'{http://www.mediawiki.org/xml/export-0.10/}revision'\u001b[0m\u001b[0;34m)\u001b[0m\u001b[0;31m\\\u001b[0m\u001b[0;34m\u001b[0m\u001b[0;34m\u001b[0m\u001b[0m\n\u001b[1;32m     12\u001b[0m             \u001b[0;34m.\u001b[0m\u001b[0mfind\u001b[0m\u001b[0;34m(\u001b[0m\u001b[0;34m'{http://www.mediawiki.org/xml/export-0.10/}text'\u001b[0m\u001b[0;34m)\u001b[0m\u001b[0;34m\u001b[0m\u001b[0;34m\u001b[0m\u001b[0m\n",
      "\u001b[0;31mAttributeError\u001b[0m: 'NoneType' object has no attribute 'find'"
     ]
    }
   ],
   "source": [
    "documents = mine_graph(entry_points, 2000)"
   ]
  },
  {
   "cell_type": "code",
   "execution_count": null,
   "metadata": {},
   "outputs": [],
   "source": [
    "save_documents(documents)"
   ]
  }
 ],
 "metadata": {
  "kernelspec": {
   "display_name": "Python 3",
   "language": "python",
   "name": "python3"
  },
  "language_info": {
   "codemirror_mode": {
    "name": "ipython",
    "version": 3
   },
   "file_extension": ".py",
   "mimetype": "text/x-python",
   "name": "python",
   "nbconvert_exporter": "python",
   "pygments_lexer": "ipython3",
   "version": "3.7.2"
  }
 },
 "nbformat": 4,
 "nbformat_minor": 2
}
