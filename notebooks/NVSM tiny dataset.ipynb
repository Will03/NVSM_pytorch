{
 "cells": [
  {
   "cell_type": "code",
   "execution_count": 1,
   "metadata": {},
   "outputs": [],
   "source": [
    "import pandas as pd\n",
    "import torch\n",
    "import torch.nn as nn\n",
    "import torch.nn.functional as F\n",
    "import torchtext\n",
    "from torch.utils.data import TensorDataset\n",
    "from torch.utils.data import random_split\n",
    "from torch.utils.data import DataLoader\n",
    "\n",
    "import torch.optim as optim\n",
    "\n",
    "import spacy"
   ]
  },
  {
   "cell_type": "markdown",
   "metadata": {},
   "source": [
    "# NVSM model"
   ]
  },
  {
   "cell_type": "code",
   "execution_count": 2,
   "metadata": {},
   "outputs": [],
   "source": [
    "class NVSM(nn.Module):\n",
    "    def __init__(self, n_doc, n_tok, dim_doc_emb, dim_tok_emb, neg_sampling_rate, \n",
    "                 pad_token_id):\n",
    "        super(NVSM, self).__init__()\n",
    "        self.doc_emb           = nn.Embedding(n_doc, embedding_dim = dim_doc_emb)\n",
    "        self.tok_emb           = nn.Embedding(n_tok, embedding_dim = dim_tok_emb)\n",
    "        self.tok_to_doc        = nn.Linear(dim_tok_emb, dim_doc_emb)\n",
    "        self.bias              = nn.Parameter(torch.Tensor(dim_doc_emb))\n",
    "        self.neg_sampling_rate = neg_sampling_rate\n",
    "        self.pad_token_id      = pad_token_id\n",
    "        \n",
    "    def query_to_tensor(self, query):\n",
    "        '''\n",
    "        Computes the average of the word embeddings of the query. This method \n",
    "        corresponds to the function 'g' in the article.\n",
    "        '''\n",
    "        # Create a mask to ignore padding embeddings\n",
    "        query_mask    = (query != self.pad_token_id).float()\n",
    "        # Compute the number of tokens in each query to properly compute the \n",
    "        # average\n",
    "        tok_by_input  = query_mask.sum(dim = 1)\n",
    "        query_tok_emb = self.tok_emb(query)\n",
    "        query_tok_emb = query_tok_emb * query_mask.unsqueeze(-1)\n",
    "        # Compute the average of the embeddings\n",
    "        query_emb     = query_tok_emb.sum(dim = 1) / tok_by_input.unsqueeze(-1)\n",
    "        \n",
    "        return query_emb\n",
    "    \n",
    "    def normalize_query_tensor(self, query_tensor):\n",
    "        '''\n",
    "        Divides each query tensor by its L2 norm. This method corresponds to \n",
    "        the function 'norm' in the article.\n",
    "        '''\n",
    "        norm = torch.norm(query_tensor, dim = 1) # we might have to detach this value \n",
    "                                                 # from the computation graph.\n",
    "        return query_tensor / norm.unsqueeze(-1)\n",
    "        \n",
    "    def query_to_doc_space(self, query):\n",
    "        '''\n",
    "        Projects a query vector into the document vector space. This method corresponds \n",
    "        to the function 'f' in the article.\n",
    "        '''\n",
    "        return self.tok_to_doc(query)\n",
    "    \n",
    "    def score(self, query, document):\n",
    "        '''\n",
    "        Computes the cosine similarity between a query and a document embedding.\n",
    "        This method corresponds to the function 'score' in the article.\n",
    "        '''\n",
    "        # batch dot product using batch matrix multiplication\n",
    "        num   = torch.bmm(query.unsqueeze(1), document.unsqueeze(-1))\n",
    "        denum = torch.norm(query, dim = 1) * torch.norm(document, dim = 1)\n",
    "        \n",
    "        return num / denum\n",
    "        \n",
    "    def non_stand_projection(self, n_gram):\n",
    "        '''\n",
    "        Computes the non-standard projection of a n-gram into the document vector \n",
    "        space. This method corresponds to the function 'T^~' in the article.\n",
    "        '''\n",
    "        n_gram_tensor      = self.query_to_tensor(n_gram)\n",
    "        norm_n_gram_tensor = self.normalize_query_tensor(n_gram_tensor)\n",
    "        projection         = self.query_to_doc_space(norm_n_gram_tensor)\n",
    "        \n",
    "        return projection\n",
    "    \n",
    "    def _custom_batchnorm(self, batch):\n",
    "        '''\n",
    "        Computes the variant of the batch normalization formula used in this article. \n",
    "        It only uses a bias and no weights.\n",
    "        '''\n",
    "        batch_feat_norm = (batch - batch.mean(dim = 0)) / batch.std(dim = 0)\n",
    "        batch_feat_norm = batch_feat_norm + self.bias\n",
    "        \n",
    "        return batch_feat_norm\n",
    "    \n",
    "    def stand_projection(self, batch):\n",
    "        '''\n",
    "        Computes the standard projection of a n-gram into document vector space with\n",
    "        a hardtanh activation. This method corresponds to the function 'T' in the \n",
    "        article.\n",
    "        '''\n",
    "        non_stand_proj = self.non_stand_projection(batch) \n",
    "        bn             = self._custom_batchnorm(non_stand_proj)\n",
    "        activation     = F.hardtanh(bn)\n",
    "\n",
    "        return activation\n",
    "    \n",
    "    def representation_similarity(self, query, document):\n",
    "        '''\n",
    "        Computes the similarity between a query and a document. This method corresponds \n",
    "        to the function 'P' in the article.\n",
    "        '''\n",
    "        document_emb  = self.doc_emb(document)\n",
    "        query_proj    = self.stand_projection(query)\n",
    "        # If we have a single document to match against each query, we have\n",
    "        # to reshape the tensor to compute a simple dot product.\n",
    "        # Otherwise, we compute a simple matrix multiplication to match the \n",
    "        # query against each document.\n",
    "        if len(document_emb.shape) == 2:\n",
    "            document_emb = document_emb.unsqueeze(1)\n",
    "        dot_product   = torch.bmm(document_emb, query_proj.unsqueeze(-1))\n",
    "        similarity    = torch.sigmoid(dot_product)\n",
    "        \n",
    "        return similarity.squeeze()\n",
    "    \n",
    "    def forward(self, query, document):\n",
    "        '''\n",
    "        Approximates the probability of document given query by uniformly sampling \n",
    "        constrastive examples. This method corresponds to the 'P^~' function in the \n",
    "        article.\n",
    "        '''\n",
    "        # Positive term, this should be maximized as it indicates how similar the\n",
    "        # correct document is to the query\n",
    "        pos_repr = self.representation_similarity(query, document)\n",
    "        \n",
    "        # Sampling uniformly 'self.neg_sampling_rate' documents to compute the \n",
    "        # negative term. We first randomly draw the indices of the documents and \n",
    "        # then we compute the similarity with the query.\n",
    "        z               = self.neg_sampling_rate # corresponds to the z variable in \n",
    "                                                 # the article\n",
    "        n_docs          = self.doc_emb.num_embeddings\n",
    "        neg_sample_size = (query.size(0), z)\n",
    "        neg_sample      = torch.randint(low = 0, high = n_docs, size = neg_sample_size)\n",
    "        neg_repr        = self.representation_similarity(query, neg_sample)\n",
    "        \n",
    "        # Probability computation\n",
    "        positive_term = torch.log(pos_repr)\n",
    "        negative_term = torch.log(1 - neg_repr).sum(dim = 1)\n",
    "        proba         = ((z + 1) / (2 * z)) * (z * positive_term + negative_term)\n",
    "        \n",
    "        return proba"
   ]
  },
  {
   "cell_type": "code",
   "execution_count": 3,
   "metadata": {},
   "outputs": [],
   "source": [
    "def loss_function(nvsm, pred, lamb):\n",
    "    output_term = pred.mean()\n",
    "    sum_square  = lambda m: (m.weight * m.weight).sum()\n",
    "    reg_term    = sum_square(nvsm.tok_emb) + \\\n",
    "                  sum_square(nvsm.doc_emb) + \\\n",
    "                  sum_square(nvsm.tok_to_doc)\n",
    "    loss        = -output_term + (lamb / (2 * pred.shape[0])) * reg_term\n",
    "    if torch.isnan(loss):\n",
    "        print('output_term', output_term)\n",
    "        print('reg_term', reg_term)\n",
    "    \n",
    "    return loss"
   ]
  },
  {
   "cell_type": "markdown",
   "metadata": {},
   "source": [
    "# Dataset creation"
   ]
  },
  {
   "cell_type": "code",
   "execution_count": 4,
   "metadata": {},
   "outputs": [],
   "source": [
    "spacy_en = spacy.load('en')\n",
    "\n",
    "def tokenize(text):\n",
    "    return [tok.text for tok in spacy_en.tokenizer(text)]"
   ]
  },
  {
   "cell_type": "code",
   "execution_count": 5,
   "metadata": {},
   "outputs": [],
   "source": [
    "def load_docs(filepaths):\n",
    "    documents = []\n",
    "    for filepath in filepaths:\n",
    "        with open(filepath) as file:\n",
    "            documents.append(file.read().strip().lower())\n",
    "\n",
    "    return documents"
   ]
  },
  {
   "cell_type": "code",
   "execution_count": 6,
   "metadata": {},
   "outputs": [],
   "source": [
    "def tokenize_docs(documents):\n",
    "    tokenized_documents = [tokenize(doc) for doc in documents]\n",
    "#     print([len(doc_tok) for doc_tok in tokenized_documents])\n",
    "    \n",
    "    return tokenized_documents"
   ]
  },
  {
   "cell_type": "code",
   "execution_count": 7,
   "metadata": {},
   "outputs": [],
   "source": [
    "def create_vocabulary(tokenized_documents):\n",
    "    vocabulary    = {token for doc in tokenized_documents for token in doc}\n",
    "    stoi          = {token : i + 2 for i, token in enumerate(vocabulary)}\n",
    "    stoi['<PAD>'] = 0\n",
    "    stoi['<UNK>'] = 1\n",
    "    itos          = {i : token for token, i in stoi.items()}\n",
    "    \n",
    "    return vocabulary, stoi, itos"
   ]
  },
  {
   "cell_type": "code",
   "execution_count": 8,
   "metadata": {},
   "outputs": [],
   "source": [
    "def create_dataset(tok_docs, stoi, n):\n",
    "    n_grams      = []\n",
    "    document_ids = []\n",
    "    for i, doc in enumerate(tok_docs):\n",
    "        doc_tok_ids = [stoi[tok] for tok in doc]\n",
    "        for n_gram in [doc_tok_ids[i : i + n] for i in range(len(doc) - n)]:\n",
    "            n_grams.append(n_gram)\n",
    "            document_ids.append(i)\n",
    "            \n",
    "    return n_grams, document_ids"
   ]
  },
  {
   "cell_type": "code",
   "execution_count": 9,
   "metadata": {},
   "outputs": [],
   "source": [
    "def create_pytorch_datasets(n_grams, doc_ids, val_prop = 0.2):\n",
    "    n_grams_tensor = torch.tensor(n_grams)\n",
    "    doc_ids_tensor = torch.tensor(doc_ids)\n",
    "    full_dataset   = TensorDataset(n_grams_tensor, doc_ids_tensor)\n",
    "    total_size     = len(full_dataset)\n",
    "    val_size       = round(total_size * val_prop)\n",
    "    train, val     = random_split(full_dataset, [total_size - val_size, val_size])\n",
    "    \n",
    "    return train, val"
   ]
  },
  {
   "cell_type": "code",
   "execution_count": 10,
   "metadata": {},
   "outputs": [
    {
     "name": "stdout",
     "output_type": "stream",
     "text": [
      "6\n",
      "10811\n"
     ]
    }
   ],
   "source": [
    "def main():\n",
    "    filepaths = [\n",
    "        '../data/raw/language/Word_formation',\n",
    "        '../data/raw/language/Terminology',    \n",
    "        '../data/raw/history/Jacobin',\n",
    "        '../data/raw/history/French_Revolution',\n",
    "        '../data/raw/math/Game_theory',\n",
    "        '../data/raw/math/Laplacian_matrix'\n",
    "    ]\n",
    "    documents             = load_docs(filepaths)\n",
    "    tokenized_documents   = tokenize_docs(documents)\n",
    "    print(len(tokenized_documents))\n",
    "    voc, stoi, itos       = create_vocabulary(tokenized_documents)\n",
    "    print(len(stoi))\n",
    "    n_grams, document_ids = create_dataset(tokenized_documents, stoi, 10)\n",
    "    train_data, val_data  = create_pytorch_datasets(n_grams, document_ids)\n",
    "\n",
    "    return train_data, val_data\n",
    "train_data, val_data = main()"
   ]
  },
  {
   "cell_type": "code",
   "execution_count": 11,
   "metadata": {},
   "outputs": [],
   "source": [
    "train_loader = DataLoader(train_data, batch_size = 32, shuffle = True)"
   ]
  },
  {
   "cell_type": "code",
   "execution_count": 12,
   "metadata": {},
   "outputs": [],
   "source": [
    "nvsm = NVSM(\n",
    "    n_doc             = 6, \n",
    "    n_tok             = 10811, \n",
    "    dim_doc_emb       = 20, \n",
    "    dim_tok_emb       = 30,\n",
    "    neg_sampling_rate = 4,\n",
    "    pad_token_id      = 0\n",
    ")"
   ]
  },
  {
   "cell_type": "code",
   "execution_count": 13,
   "metadata": {},
   "outputs": [],
   "source": [
    "optimizer = optim.Adam(nvsm.parameters())\n",
    "lamb      = 1e-3 # loss param\n",
    "lamb      = 0 # to test if the nan comes from the regularizer"
   ]
  },
  {
   "cell_type": "code",
   "execution_count": 14,
   "metadata": {},
   "outputs": [
    {
     "name": "stdout",
     "output_type": "stream",
     "text": [
      "[0,0]: 6.244077682495117\n",
      "[0,250]: 3.488909959793091\n",
      "[0,500]: 3.3911595344543457\n",
      "[0,750]: 2.627307891845703\n",
      "[0,1000]: 2.3879799842834473\n",
      "[0,1250]: 3.126424789428711\n",
      "[0,1500]: 3.0118539333343506\n",
      "[0,1750]: 2.3496594429016113\n",
      "[1,0]: 1.9122824668884277\n",
      "[1,250]: 2.361788272857666\n",
      "[1,500]: 2.4766862392425537\n",
      "[1,750]: 2.575640916824341\n",
      "[1,1000]: 1.9228013753890991\n",
      "[1,1250]: 2.1694440841674805\n",
      "[1,1500]: 2.092010974884033\n",
      "[1,1750]: 1.9203989505767822\n",
      "[2,0]: 1.8724689483642578\n",
      "[2,250]: 2.179386854171753\n",
      "[2,500]: 2.219007730484009\n",
      "[2,750]: 1.5876535177230835\n",
      "[2,1000]: 1.6337920427322388\n",
      "[2,1250]: 1.7836906909942627\n",
      "[2,1500]: 1.7561500072479248\n",
      "[2,1750]: 1.392206072807312\n",
      "[3,0]: 2.0729551315307617\n",
      "[3,250]: 1.9806984663009644\n",
      "[3,500]: 1.4116427898406982\n",
      "[3,750]: 1.9882724285125732\n",
      "[3,1000]: 1.8958345651626587\n",
      "[3,1250]: 1.8139042854309082\n",
      "[3,1500]: 1.5621099472045898\n",
      "[3,1750]: 1.5539456605911255\n",
      "[4,0]: 2.039531946182251\n",
      "[4,250]: 1.796246886253357\n",
      "[4,500]: 1.658462405204773\n",
      "[4,750]: 1.8407212495803833\n",
      "[4,1000]: 1.8711392879486084\n",
      "[4,1250]: 1.7389453649520874\n",
      "[4,1500]: 1.6129634380340576\n",
      "[4,1750]: 1.5982173681259155\n"
     ]
    }
   ],
   "source": [
    "for epoch in range(5):\n",
    "    for i, (n_grams, doc_ids) in enumerate(train_loader):\n",
    "        optimizer.zero_grad()\n",
    "        pred_proba = nvsm(n_grams, doc_ids)\n",
    "        loss = loss_function(nvsm, pred_proba, lamb)\n",
    "        loss.backward()\n",
    "        optimizer.step()\n",
    "        if i % 250 == 0:\n",
    "            print(f'[{epoch},{i}]: {loss}')"
   ]
  }
 ],
 "metadata": {
  "kernelspec": {
   "display_name": "Python 3",
   "language": "python",
   "name": "python3"
  },
  "language_info": {
   "codemirror_mode": {
    "name": "ipython",
    "version": 3
   },
   "file_extension": ".py",
   "mimetype": "text/x-python",
   "name": "python",
   "nbconvert_exporter": "python",
   "pygments_lexer": "ipython3",
   "version": "3.7.2"
  }
 },
 "nbformat": 4,
 "nbformat_minor": 2
}
