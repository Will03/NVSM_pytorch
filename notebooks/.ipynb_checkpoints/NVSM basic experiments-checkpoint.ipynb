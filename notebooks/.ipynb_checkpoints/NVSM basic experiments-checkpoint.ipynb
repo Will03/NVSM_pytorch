{
 "cells": [
  {
   "cell_type": "code",
   "execution_count": 1,
   "metadata": {},
   "outputs": [],
   "source": [
    "import pandas as pd\n",
    "import torch\n",
    "import torch.nn as nn\n",
    "import torch.nn.functional as F\n",
    "import torchtext"
   ]
  },
  {
   "cell_type": "code",
   "execution_count": 119,
   "metadata": {},
   "outputs": [],
   "source": [
    "class NVSM(nn.Module):\n",
    "    def __init__(self, n_doc, n_tok, dim_doc_emb, dim_tok_emb, neg_sampling_rate):\n",
    "        super(NVSM, self).__init__()\n",
    "        self.doc_emb           = nn.Embedding(n_doc, embedding_dim = dim_doc_emb)\n",
    "        self.tok_emb           = nn.Embedding(n_tok, embedding_dim = dim_tok_emb)\n",
    "        self.tok_to_doc        = nn.Linear(dim_tok_emb, dim_doc_emb)\n",
    "        self.bias              = nn.Parameter(torch.Tensor(dim_doc_emb))\n",
    "        self.neg_sampling_rate = neg_sampling_rate\n",
    "        \n",
    "    def query_to_tensor(self, query):\n",
    "        '''\n",
    "        Computes the average of the word embeddings of the query. This method \n",
    "        corresponds to the function 'g' in the article.\n",
    "        '''\n",
    "        # Create a mask to ignore padding embeddings\n",
    "        query_mask    = (query != 0).float()\n",
    "        # Compute the number of tokens in each query to properly compute the \n",
    "        # average\n",
    "        tok_by_input  = query_mask.sum(dim = 1)\n",
    "        query_tok_emb = self.tok_emb(query)\n",
    "        query_tok_emb = query_tok_emb * query_mask.unsqueeze(-1)\n",
    "        # Compute the average of the embeddings\n",
    "        query_emb     = query_tok_emb.sum(dim = 1) / tok_by_input.unsqueeze(-1)\n",
    "        \n",
    "        return query_emb\n",
    "    \n",
    "    def normalize_query_tensor(self, query_tensor):\n",
    "        '''\n",
    "        Divides each query tensor by its L2 norm. This method corresponds to \n",
    "        the function 'norm' in the article.\n",
    "        '''\n",
    "        norm = torch.norm(query_tensor, dim = 1) # we might have to detach this value \n",
    "                                                 # from the computation graph.\n",
    "        return query_tensor / norm.unsqueeze(-1)\n",
    "        \n",
    "    def query_to_doc_space(self, query):\n",
    "        '''\n",
    "        Projects a query vector into the document vector space. This method corresponds \n",
    "        to the function 'f' in the article.\n",
    "        '''\n",
    "        return self.tok_to_doc(query)\n",
    "    \n",
    "    def score(self, query, document):\n",
    "        '''\n",
    "        Computes the cosine similarity between a query and a document embedding.\n",
    "        This method corresponds to the function 'score' in the article.\n",
    "        '''\n",
    "        # batch dot product using batch matrix multiplication\n",
    "        num   = torch.bmm(query.unsqueeze(1), document.unsqueeze(-1))\n",
    "        denum = torch.norm(query, dim = 1) * torch.norm(document, dim = 1)\n",
    "        \n",
    "        return num / denum\n",
    "        \n",
    "    def non_stand_projection(self, n_gram):\n",
    "        '''\n",
    "        Computes the non-standard projection of a n-gram into the document vector \n",
    "        space. This method corresponds to the function 'T^~' in the article.\n",
    "        '''\n",
    "        n_gram_tensor      = self.query_to_tensor(n_gram)\n",
    "        norm_n_gram_tensor = self.normalize_query_tensor(n_gram_tensor)\n",
    "        projection         = self.query_to_doc_space(norm_n_gram_tensor)\n",
    "        \n",
    "        return projection\n",
    "    \n",
    "    def _custom_batchnorm(self, batch):\n",
    "        '''\n",
    "        Computes the variant of the batch normalization formula used in this article. \n",
    "        It only uses a bias and no weights.\n",
    "        '''\n",
    "        batch_feat_norm = (batch - batch.mean(dim = 0)) / batch.std(dim = 0)\n",
    "        batch_feat_norm = batch_feat_norm + self.bias\n",
    "        \n",
    "        return batch_feat_norm\n",
    "    \n",
    "    def stand_projection(self, batch):\n",
    "        '''\n",
    "        Computes the standard projection of a n-gram into document vector space with\n",
    "        a hardtanh activation. This method corresponds to the function 'T' in the \n",
    "        article.\n",
    "        '''\n",
    "        non_stand_proj = self.non_stand_projection(batch) \n",
    "        bn             = self._custom_batchnorm(non_stand_proj)\n",
    "        activation     = F.hardtanh(bn)\n",
    "\n",
    "        return activation\n",
    "    \n",
    "    def representation_similarity(self, query, document):\n",
    "        '''\n",
    "        Computes the similarity between a query and a document. This method corresponds \n",
    "        to the function 'P' in the article.\n",
    "        '''\n",
    "        document_emb  = self.doc_emb(document)\n",
    "        query_proj    = self.stand_projection(query)\n",
    "        # If we have a single document to match against each query, we have\n",
    "        # to reshape the tensor to compute a simple dot product.\n",
    "        # Otherwise, we compute a simple matrix multiplication to match the \n",
    "        # query against each document.\n",
    "        if len(document_emb.shape) == 2:\n",
    "            document_emb = document_emb.unsqueeze(1)\n",
    "        dot_product   = torch.bmm(document_emb, query_proj.unsqueeze(-1))\n",
    "        similarity    = torch.sigmoid(dot_product)\n",
    "        \n",
    "        return similarity.squeeze()\n",
    "    \n",
    "    def proba_doc_query(self, query, document):\n",
    "        '''\n",
    "        Approximates the probability of document given query by uniformly sampling \n",
    "        constrastive examples.\n",
    "        '''\n",
    "        # Positive term, this should be maximized as it indicates how similar the\n",
    "        # correct document is to the query\n",
    "        pos_repr = self.representation_similarity(query, document)\n",
    "        \n",
    "        # Sampling uniformly 'self.neg_sampling_rate' documents to compute the \n",
    "        # negative term. We first randomly draw the indices of the documents and \n",
    "        # then we compute the similarity with the query.\n",
    "        n_docs             = self.doc_emb.num_embeddings\n",
    "        neg_sample_size    = (query.size(0), self.neg_sampling_rate)\n",
    "        neg_sample         = torch.randint(low = 0, high = n_docs, size = neg_sample_size)\n",
    "#         neg_sample_doc_emb = self.doc_emb(neg_sample)\n",
    "        neg_repr           = self.representation_similarity(query, neg_sample)\n",
    "        \n",
    "        return pos_repr, neg_repr\n",
    "    \n",
    "    def forward(self, query, document_ids):\n",
    "        pass"
   ]
  },
  {
   "cell_type": "code",
   "execution_count": 120,
   "metadata": {},
   "outputs": [],
   "source": [
    "nvsm = NVSM(\n",
    "    n_doc       = 20, \n",
    "    n_tok       = 9, \n",
    "    dim_doc_emb = 10, \n",
    "    dim_tok_emb = 7,\n",
    "    neg_sampling_rate = 4\n",
    ")"
   ]
  },
  {
   "cell_type": "code",
   "execution_count": 121,
   "metadata": {},
   "outputs": [
    {
     "name": "stdout",
     "output_type": "stream",
     "text": [
      "tensor([[1, 2, 3, 0, 0],\n",
      "        [4, 5, 6, 7, 8],\n",
      "        [2, 7, 8, 3, 0]])\n",
      "tensor([2, 3, 7])\n"
     ]
    }
   ],
   "source": [
    "l = [\n",
    "        [1, 2, 3, 0, 0], \n",
    "        [4, 5, 6, 7, 8],\n",
    "        [2, 7, 8, 3, 0]\n",
    "]\n",
    "query = torch.tensor(l)\n",
    "document = torch.tensor([2,3,7])\n",
    "print(query)\n",
    "print(document)"
   ]
  },
  {
   "cell_type": "code",
   "execution_count": 122,
   "metadata": {},
   "outputs": [
    {
     "data": {
      "text/plain": [
       "tensor([0.0150, 0.4598, 0.6190], grad_fn=<SqueezeBackward0>)"
      ]
     },
     "execution_count": 122,
     "metadata": {},
     "output_type": "execute_result"
    }
   ],
   "source": [
    "nvsm.representation_similarity(query, document)"
   ]
  },
  {
   "cell_type": "code",
   "execution_count": 123,
   "metadata": {},
   "outputs": [],
   "source": [
    "pos_repr, neg_repr = nvsm.proba_doc_query(query, document)"
   ]
  },
  {
   "cell_type": "code",
   "execution_count": 124,
   "metadata": {},
   "outputs": [
    {
     "data": {
      "text/plain": [
       "torch.Size([3])"
      ]
     },
     "execution_count": 124,
     "metadata": {},
     "output_type": "execute_result"
    }
   ],
   "source": [
    "pos_repr.shape"
   ]
  },
  {
   "cell_type": "code",
   "execution_count": 125,
   "metadata": {},
   "outputs": [
    {
     "data": {
      "text/plain": [
       "torch.Size([3, 4])"
      ]
     },
     "execution_count": 125,
     "metadata": {},
     "output_type": "execute_result"
    }
   ],
   "source": [
    "neg_repr.shape"
   ]
  },
  {
   "cell_type": "code",
   "execution_count": 126,
   "metadata": {},
   "outputs": [
    {
     "data": {
      "text/plain": [
       "tensor([[0.0895, 0.0451, 0.6147, 0.5289],\n",
       "        [0.0224, 0.9056, 0.9005, 0.9289],\n",
       "        [0.8214, 0.9935, 0.9186, 0.2677]], grad_fn=<SqueezeBackward0>)"
      ]
     },
     "execution_count": 126,
     "metadata": {},
     "output_type": "execute_result"
    }
   ],
   "source": [
    "neg_repr"
   ]
  },
  {
   "cell_type": "code",
   "execution_count": 6,
   "metadata": {},
   "outputs": [],
   "source": [
    "res = nvsm.non_stand_projection(t)"
   ]
  },
  {
   "cell_type": "code",
   "execution_count": 7,
   "metadata": {},
   "outputs": [
    {
     "data": {
      "text/plain": [
       "tensor([[ 0.2862,  0.1525,  0.4956, -0.2371,  0.3743,  0.1711,  0.1562,  0.3258,\n",
       "          0.0477,  0.0066],\n",
       "        [ 0.5237, -0.5505,  0.3950, -0.2800,  0.0744, -0.3260, -0.0512, -0.0246,\n",
       "          0.3163,  0.5055]], grad_fn=<AddmmBackward>)"
      ]
     },
     "execution_count": 7,
     "metadata": {},
     "output_type": "execute_result"
    }
   ],
   "source": [
    "res"
   ]
  },
  {
   "cell_type": "code",
   "execution_count": 85,
   "metadata": {},
   "outputs": [
    {
     "name": "stdout",
     "output_type": "stream",
     "text": [
      "torch.Size([2, 4]) torch.Size([2, 3, 4])\n",
      "tensor([[1, 2, 3, 4],\n",
      "        [1, 0, 0, 0]])\n",
      "tensor([[[ 0,  1,  2,  3],\n",
      "         [ 4,  5,  6,  7],\n",
      "         [ 8,  9, 10, 11]],\n",
      "\n",
      "        [[12, 13, 14, 15],\n",
      "         [16, 17, 18, 19],\n",
      "         [20, 21, 22, 23]]])\n"
     ]
    }
   ],
   "source": [
    "query_emb = torch.tensor([\n",
    "    [1, 2, 3, 4],\n",
    "    [1, 0, 0, 0],\n",
    "])\n",
    "doc_emb = torch.arange(24).view(2, 3, 4)\n",
    "print(query_emb.shape, doc_emb.shape)\n",
    "print(query_emb)\n",
    "print(doc_emb)"
   ]
  },
  {
   "cell_type": "code",
   "execution_count": 86,
   "metadata": {},
   "outputs": [
    {
     "name": "stdout",
     "output_type": "stream",
     "text": [
      "torch.Size([2, 3, 4]) torch.Size([2, 4, 1])\n"
     ]
    }
   ],
   "source": [
    "print(doc_emb.shape, query_emb.unsqueeze(-1).shape)"
   ]
  },
  {
   "cell_type": "code",
   "execution_count": 87,
   "metadata": {},
   "outputs": [
    {
     "name": "stdout",
     "output_type": "stream",
     "text": [
      "torch.Size([2, 3, 1])\n",
      "tensor([[[ 20],\n",
      "         [ 60],\n",
      "         [100]],\n",
      "\n",
      "        [[ 12],\n",
      "         [ 16],\n",
      "         [ 20]]])\n"
     ]
    }
   ],
   "source": [
    "result = torch.bmm(doc_emb, query_emb.unsqueeze(-1))\n",
    "print(result.shape)\n",
    "print(result)"
   ]
  },
  {
   "cell_type": "code",
   "execution_count": 31,
   "metadata": {},
   "outputs": [
    {
     "name": "stdout",
     "output_type": "stream",
     "text": [
      "torch.Size([3, 1, 3])\n",
      "tensor([[[ 20,  60, 100]],\n",
      "\n",
      "        [[ 12,  16,  20]],\n",
      "\n",
      "        [[ 26,  30,  34]]])\n"
     ]
    }
   ],
   "source": [
    "result = torch.bmm(t1.unsqueeze(1), t2.transpose(-1, -2))\n",
    "print(result.shape)\n",
    "print(result)"
   ]
  },
  {
   "cell_type": "code",
   "execution_count": 13,
   "metadata": {},
   "outputs": [
    {
     "data": {
      "text/plain": [
       "torch.Size([3])"
      ]
     },
     "execution_count": 13,
     "metadata": {},
     "output_type": "execute_result"
    }
   ],
   "source": [
    "t1.shape"
   ]
  },
  {
   "cell_type": "code",
   "execution_count": 14,
   "metadata": {},
   "outputs": [
    {
     "data": {
      "text/plain": [
       "torch.Size([3, 3])"
      ]
     },
     "execution_count": 14,
     "metadata": {},
     "output_type": "execute_result"
    }
   ],
   "source": [
    "t2.shape"
   ]
  },
  {
   "cell_type": "code",
   "execution_count": 20,
   "metadata": {},
   "outputs": [
    {
     "data": {
      "text/plain": [
       "tensor([[[0, 3, 6],\n",
       "         [1, 4, 7],\n",
       "         [2, 5, 8]]])"
      ]
     },
     "execution_count": 20,
     "metadata": {},
     "output_type": "execute_result"
    }
   ],
   "source": [
    "t2.transpose(-1, -2)"
   ]
  },
  {
   "cell_type": "code",
   "execution_count": 40,
   "metadata": {},
   "outputs": [
    {
     "data": {
      "text/plain": [
       "Embedding(20, 10)"
      ]
     },
     "execution_count": 40,
     "metadata": {},
     "output_type": "execute_result"
    }
   ],
   "source": [
    "emb = nvsm.doc_emb\n",
    "emb"
   ]
  },
  {
   "cell_type": "code",
   "execution_count": 55,
   "metadata": {},
   "outputs": [
    {
     "data": {
      "text/plain": [
       "tensor([[2, 7, 7, 8, 2],\n",
       "        [6, 8, 0, 8, 2],\n",
       "        [1, 1, 6, 3, 1]])"
      ]
     },
     "execution_count": 55,
     "metadata": {},
     "output_type": "execute_result"
    }
   ],
   "source": [
    "negative_sample = torch.randint(low = 0, high = 9, size = (3, 5))\n",
    "negative_sample"
   ]
  },
  {
   "cell_type": "code",
   "execution_count": 56,
   "metadata": {},
   "outputs": [],
   "source": [
    "emb_doc = emb(negative_sample)"
   ]
  },
  {
   "cell_type": "code",
   "execution_count": 57,
   "metadata": {},
   "outputs": [
    {
     "data": {
      "text/plain": [
       "torch.Size([3, 5, 10])"
      ]
     },
     "execution_count": 57,
     "metadata": {},
     "output_type": "execute_result"
    }
   ],
   "source": [
    "emb_doc.shape"
   ]
  },
  {
   "cell_type": "code",
   "execution_count": 43,
   "metadata": {},
   "outputs": [
    {
     "data": {
      "text/plain": [
       "torch.int64"
      ]
     },
     "execution_count": 43,
     "metadata": {},
     "output_type": "execute_result"
    }
   ],
   "source": [
    "negative_sample.dtype"
   ]
  },
  {
   "cell_type": "code",
   "execution_count": 45,
   "metadata": {},
   "outputs": [
    {
     "data": {
      "text/plain": [
       "torch.Tensor"
      ]
     },
     "execution_count": 45,
     "metadata": {},
     "output_type": "execute_result"
    }
   ],
   "source": [
    "type(negative_sample.int())"
   ]
  },
  {
   "cell_type": "code",
   "execution_count": 49,
   "metadata": {},
   "outputs": [
    {
     "data": {
      "text/plain": [
       "torch.Size([5, 1])"
      ]
     },
     "execution_count": 49,
     "metadata": {},
     "output_type": "execute_result"
    }
   ],
   "source": [
    "negative_sample.shape"
   ]
  },
  {
   "cell_type": "code",
   "execution_count": 58,
   "metadata": {},
   "outputs": [
    {
     "data": {
      "text/plain": [
       "20"
      ]
     },
     "execution_count": 58,
     "metadata": {},
     "output_type": "execute_result"
    }
   ],
   "source": [
    "emb.num_embeddings"
   ]
  },
  {
   "cell_type": "code",
   "execution_count": null,
   "metadata": {},
   "outputs": [],
   "source": []
  }
 ],
 "metadata": {
  "kernelspec": {
   "display_name": "Python 3",
   "language": "python",
   "name": "python3"
  },
  "language_info": {
   "codemirror_mode": {
    "name": "ipython",
    "version": 3
   },
   "file_extension": ".py",
   "mimetype": "text/x-python",
   "name": "python",
   "nbconvert_exporter": "python",
   "pygments_lexer": "ipython3",
   "version": "3.7.2"
  }
 },
 "nbformat": 4,
 "nbformat_minor": 2
}
